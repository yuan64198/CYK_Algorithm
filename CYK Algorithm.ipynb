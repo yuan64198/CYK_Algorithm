{
 "cells": [
  {
   "cell_type": "code",
   "execution_count": 65,
   "metadata": {},
   "outputs": [],
   "source": [
    "import numpy as np\n",
    "import copy\n",
    "class CKYParser:\n",
    "    def __init__(this, grammars):\n",
    "        this.grammars = {}\n",
    "        this.parse_rules(grammars.split(\"\\n\"))\n",
    "        \n",
    "        \n",
    "    def parse_rules(this, rules):\n",
    "        arr = []\n",
    "        for line in rules:\n",
    "            tmp = line.split()\n",
    "            arr.append(tmp)\n",
    "        for e in arr:\n",
    "            if(len(e)==4):\n",
    "                if(e[1] not in this.grammars): \n",
    "                    this.grammars[e[1]] = {}\n",
    "                if(e[2] not in this.grammars[e[1]]): \n",
    "                    this.grammars[e[1]][e[2]] = []\n",
    "                this.grammars[e[1]][e[2]].append(e[0])\n",
    "                this.grammars[e[1]][e[2]].append(float(e[3]))\n",
    "            if(len(e)==3):\n",
    "                if(e[1] not in this.grammars): \n",
    "                    this.grammars[e[1]] = {}\n",
    "                this.grammars[e[1]][e[0]] = float(e[2])\n",
    "        \n",
    "    def parse_sentence(this, sent):\n",
    "        ret = []\n",
    "        ret.append(this.copy_first(sent))\n",
    "        for i in range(1, len(sent)):\n",
    "            tmp = []\n",
    "            for j in range(len(sent)-i):\n",
    "                a = {}\n",
    "                if(i > 1):\n",
    "                    a = this.cal_grammars(ret[0][j], ret[i-1][len(sent)-i+j-1], a)\n",
    "                a = this.cal_grammars(ret[i-1][j], ret[0][i+j], a)\n",
    "                tmp.append(a)\n",
    "            ret.append(tmp)\n",
    "        return ret\n",
    "    \n",
    "    def copy_first(this, sent):\n",
    "        ret = []\n",
    "        for w in sent:\n",
    "            ret.append(this.grammars[w])\n",
    "        return ret\n",
    "    \n",
    "    \n",
    "    def cal_grammars(this, dic1, dic2, ret):\n",
    "        for g1 in dic1:\n",
    "            for g2 in dic2:\n",
    "                result = 0.0\n",
    "                if g1 in this.grammars and g2 in this.grammars[g1]:\n",
    "                    if(this.grammars[g1][g2][0] not in ret):\n",
    "                        ret[this.grammars[g1][g2][0]] = 0.0\n",
    "                    result = dic1[g1]*dic2[g2]*this.grammars[g1][g2][1]\n",
    "                    ret[this.grammars[g1][g2][0]] += result\n",
    "        return ret"
   ]
  },
  {
   "cell_type": "code",
   "execution_count": 66,
   "metadata": {},
   "outputs": [],
   "source": [
    "file1 = open(\"sents.txt\",\"r+\")\n",
    "sents = file1.read()\n",
    "file2 = open(\"grammar_rules.txt\",\"r+\")\n",
    "rules = file2.read()"
   ]
  },
  {
   "cell_type": "code",
   "execution_count": 67,
   "metadata": {},
   "outputs": [
    {
     "data": {
      "text/plain": [
       "{'NP': {'VP': ['S', 1.0], 'NP': ['NP', 0.1], 'PP': ['NP', 0.2]},\n",
       " 'V': {'NP': ['VP', 0.5], 'PP': ['VP', 0.1]},\n",
       " 'VP': {'PP': ['VP', 0.3]},\n",
       " 'fish': {'VP': 0.1, 'NP': 0.2, 'N': 0.2, 'V': 0.6},\n",
       " 'people': {'NP': 0.3, 'N': 0.5, 'V': 0.1},\n",
       " 'tanks': {'NP': 0.1, 'N': 0.2, 'V': 0.3},\n",
       " 'rods': {'NP': 0.1, 'N': 0.1},\n",
       " 'P': {'NP': ['PP', 1.0]},\n",
       " 'with': {'P': 1.0}}"
      ]
     },
     "execution_count": 67,
     "metadata": {},
     "output_type": "execute_result"
    }
   ],
   "source": [
    "parser = CKYParser(rules)\n",
    "parser.grammars"
   ]
  },
  {
   "cell_type": "code",
   "execution_count": 68,
   "metadata": {},
   "outputs": [
    {
     "data": {
      "text/plain": [
       "[[{'VP': 0.1, 'NP': 0.2, 'N': 0.2, 'V': 0.6},\n",
       "  {'NP': 0.3, 'N': 0.5, 'V': 0.1},\n",
       "  {'VP': 0.1, 'NP': 0.2, 'N': 0.2, 'V': 0.6}],\n",
       " [{'NP': 0.006, 'VP': 0.09},\n",
       "  {'S': 0.03, 'NP': 0.006, 'VP': 0.010000000000000002}],\n",
       " [{'NP': 0.00024000000000000003, 'S': 0.0186, 'VP': 0.0018}]]"
      ]
     },
     "execution_count": 68,
     "metadata": {},
     "output_type": "execute_result"
    }
   ],
   "source": [
    "parser.parse_sentence([\"fish\", \"people\", \"fish\"])"
   ]
  },
  {
   "cell_type": "code",
   "execution_count": 64,
   "metadata": {},
   "outputs": [
    {
     "data": {
      "text/plain": [
       "{'NP': {'VP': ['S', 1.0], 'NP': ['NP', 0.1], 'PP': ['NP', 0.2]},\n",
       " 'V': {'NP': ['VP', 0.5], 'PP': ['VP', 0.1]},\n",
       " 'VP': {'PP': ['VP', 0.3]},\n",
       " 'fish': {'VP': 0.1, 'NP': 0.2, 'N': 0.2, 'V': 0.6},\n",
       " 'people': {'NP': 0.3, 'N': 0.5, 'V': 0.1},\n",
       " 'tanks': {'NP': 0.1, 'N': 0.2, 'V': 0.3},\n",
       " 'rods': {'NP': 0.1, 'N': 0.1},\n",
       " 'P': {'NP': ['PP', 1.0]},\n",
       " 'with': {'P': 1.0}}"
      ]
     },
     "execution_count": 64,
     "metadata": {},
     "output_type": "execute_result"
    }
   ],
   "source": [
    "parser.grammars"
   ]
  },
  {
   "cell_type": "code",
   "execution_count": 29,
   "metadata": {},
   "outputs": [
    {
     "data": {
      "text/plain": [
       "['fish', 'people', 'fish', 'tanks']"
      ]
     },
     "execution_count": 29,
     "metadata": {},
     "output_type": "execute_result"
    }
   ],
   "source": [
    "sents.split(\"\\n\")[0].split()"
   ]
  },
  {
   "cell_type": "code",
   "execution_count": 5,
   "metadata": {},
   "outputs": [],
   "source": [
    "file1 = open(\"sents.txt\",\"r+\")\n",
    "sents = file1.read()\n",
    "file2 = open(\"grammar_rules.txt\",\"r+\")\n",
    "rules = file2.read()"
   ]
  },
  {
   "cell_type": "code",
   "execution_count": 7,
   "metadata": {},
   "outputs": [
    {
     "data": {
      "text/plain": [
       "{'NP': {'VP': {'S': '1.0'}, 'NP': {'NP': '0.1'}, 'PP': {'NP': '0.2'}},\n",
       " 'V': {'NP': {'VP': '0.5'}, 'PP': {'VP': '0.1'}},\n",
       " 'VP': {'PP': {'VP': '0.3'}},\n",
       " 'fish': {'VP': '0.1', 'NP': '0.2', 'N': '0.2', 'V': '0.6'},\n",
       " 'people': {'NP': '0.3', 'N': '0.5', 'V': '0.1'},\n",
       " 'tanks': {'NP': '0.1', 'N': '0.2', 'V': '0.3'},\n",
       " 'rods': {'NP': '0.1', 'N': '0.1'},\n",
       " 'P': {'NP': {'PP': '1.0'}},\n",
       " 'with': {'P': '1.0'}}"
      ]
     },
     "execution_count": 7,
     "metadata": {},
     "output_type": "execute_result"
    }
   ],
   "source": [
    "parser.grammars"
   ]
  },
  {
   "cell_type": "code",
   "execution_count": 107,
   "metadata": {},
   "outputs": [
    {
     "data": {
      "text/plain": [
       "{'fish': {'VP': '0.1', 'NP': '0.2', 'N': '0.2', 'V': '0.6'},\n",
       " 'people': {'NP': '0.3', 'N': '0.5', 'V': '0.1'},\n",
       " 'tanks': {'NP': '0.1', 'N': '0.2', 'V': '0.3'},\n",
       " 'rods': {'NP': '0.1', 'N': '0.1'},\n",
       " 'with': {'P': '1.0'}}"
      ]
     },
     "execution_count": 107,
     "metadata": {},
     "output_type": "execute_result"
    }
   ],
   "source": [
    "words"
   ]
  },
  {
   "cell_type": "code",
   "execution_count": 115,
   "metadata": {},
   "outputs": [],
   "source": [
    "file1 = open(\"myfile.txt\",\"w\") \n",
    "file1.write(\"PROCESSINGS SENTENCE \"+sents[0]+\"\\n\")\n",
    "for word in words:\n",
    "    file1.write(\"SPAN:  \"+word+\"\\n\")\n",
    "    for grammar in words[word]:\n",
    "        file1.write(\"P(\"+grammar+\") = \"+words[word][grammar]+\"\\n\")\n",
    "    file1.write(\"\\n\")\n",
    "\n",
    "file1.close()"
   ]
  },
  {
   "cell_type": "code",
   "execution_count": 111,
   "metadata": {},
   "outputs": [
    {
     "data": {
      "text/plain": [
       "{'VP': '0.1', 'NP': '0.2', 'N': '0.2', 'V': '0.6'}"
      ]
     },
     "execution_count": 111,
     "metadata": {},
     "output_type": "execute_result"
    }
   ],
   "source": [
    "words['fish']"
   ]
  },
  {
   "cell_type": "code",
   "execution_count": 26,
   "metadata": {
    "scrolled": true
   },
   "outputs": [
    {
     "data": {
      "text/plain": [
       "array([[[0., 0., 0., 0.],\n",
       "        [0., 0., 0., 0.],\n",
       "        [0., 0., 0., 0.]],\n",
       "\n",
       "       [[0., 0., 0., 0.],\n",
       "        [0., 0., 0., 0.],\n",
       "        [0., 0., 0., 0.]]])"
      ]
     },
     "execution_count": 26,
     "metadata": {},
     "output_type": "execute_result"
    }
   ],
   "source": [
    "np.zeros((2, 3, 4))"
   ]
  },
  {
   "cell_type": "code",
   "execution_count": null,
   "metadata": {},
   "outputs": [],
   "source": []
  }
 ],
 "metadata": {
  "kernelspec": {
   "display_name": "Python 3",
   "language": "python",
   "name": "python3"
  },
  "language_info": {
   "codemirror_mode": {
    "name": "ipython",
    "version": 3
   },
   "file_extension": ".py",
   "mimetype": "text/x-python",
   "name": "python",
   "nbconvert_exporter": "python",
   "pygments_lexer": "ipython3",
   "version": "3.7.3"
  }
 },
 "nbformat": 4,
 "nbformat_minor": 2
}
